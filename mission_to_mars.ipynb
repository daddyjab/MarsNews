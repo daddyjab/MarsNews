{
 "cells": [
  {
   "cell_type": "markdown",
   "metadata": {},
   "source": [
    "******************************************************************************\n",
    "# Homework Assignment:\n",
    "# 12-Web Scraping and Document Databases - Mission to Mars\n",
    "\n",
    "@Author: Jeffery Brown (daddyjab)\n",
    "@Date: 2/19/19\n",
    "\n",
    "******************************************************************************\n"
   ]
  },
  {
   "cell_type": "markdown",
   "metadata": {},
   "source": [
    "# Dependencies"
   ]
  },
  {
   "cell_type": "code",
   "execution_count": 1,
   "metadata": {},
   "outputs": [],
   "source": [
    "# Pandas for DataFrames\n",
    "import pandas as pd\n",
    "\n",
    "# Web Requests\n",
    "import requests\n",
    "\n",
    "# Splinter and BeautifulSoup for Web Scraping (+ Pandas)\n",
    "from splinter import Browser\n",
    "from bs4 import BeautifulSoup\n",
    "\n",
    "# SQLAlchemy and PyMongo for MongoDB operations\n",
    "from sqlalchemy import create_engine\n",
    "import pymongo\n",
    "\n",
    "# Pretty Print to help with debugging\n",
    "from pprint import pprint\n",
    "\n",
    "# Json - IF JSON FILE EXPORT/IMPORT IS NEEDED\n",
    "# import json\n",
    "\n",
    "# Time - IF SLEEP OR OTHER TIME FUNCTIONS NEEDED\n",
    "# import time\n"
   ]
  },
  {
   "cell_type": "markdown",
   "metadata": {},
   "source": [
    "# Scraping"
   ]
  },
  {
   "cell_type": "markdown",
   "metadata": {},
   "source": [
    "## NASA Mars News"
   ]
  },
  {
   "cell_type": "code",
   "execution_count": 2,
   "metadata": {},
   "outputs": [
    {
     "data": {
      "text/plain": [
       "'https://mars.nasa.gov/news'"
      ]
     },
     "execution_count": 2,
     "metadata": {},
     "output_type": "execute_result"
    }
   ],
   "source": [
    "# NASA Mars News website\n",
    "url_nasa_mars_base = 'https://mars.nasa.gov'\n",
    "url_nasa_mars_news = url_nasa_mars_base + '/news'\n",
    "url_nasa_mars_news"
   ]
  },
  {
   "cell_type": "code",
   "execution_count": 3,
   "metadata": {},
   "outputs": [],
   "source": [
    "# Setup the Splinter browser\n",
    "executable_path = {'executable_path': 'chromedriver.exe'}\n",
    "browser = Browser('chrome', **executable_path, headless=False)"
   ]
  },
  {
   "cell_type": "code",
   "execution_count": 4,
   "metadata": {},
   "outputs": [],
   "source": [
    "# Use Splinter to navigate to the page\n",
    "browser.visit( url_nasa_mars_news )\n",
    "\n",
    "# Create a BeautifulSoup object to parse the HTML content\n",
    "soup = BeautifulSoup(browser.html, 'lxml')"
   ]
  },
  {
   "cell_type": "code",
   "execution_count": 5,
   "metadata": {},
   "outputs": [],
   "source": [
    "# The articles are in list elements with class 'slide'.\n",
    "# Get the first of these list elements, which will be the most recent article\n",
    "news_info = soup.find('li', class_ = 'slide')"
   ]
  },
  {
   "cell_type": "code",
   "execution_count": 6,
   "metadata": {},
   "outputs": [
    {
     "data": {
      "text/plain": [
       "'https://mars.nasa.gov/news/8415/insight-is-the-newest-mars-weather-service/'"
      ]
     },
     "execution_count": 6,
     "metadata": {},
     "output_type": "execute_result"
    }
   ],
   "source": [
    "news_info_url = url_nasa_mars_base + news_info.find('a')['href']\n",
    "news_info_url"
   ]
  },
  {
   "cell_type": "code",
   "execution_count": 7,
   "metadata": {},
   "outputs": [
    {
     "data": {
      "text/plain": [
       "'February 19, 2019'"
      ]
     },
     "execution_count": 7,
     "metadata": {},
     "output_type": "execute_result"
    }
   ],
   "source": [
    "news_info_date = news_info.find('div', class_ = 'list_date').text\n",
    "news_info_date"
   ]
  },
  {
   "cell_type": "code",
   "execution_count": 8,
   "metadata": {},
   "outputs": [
    {
     "data": {
      "text/plain": [
       "'InSight Is the Newest Mars Weather Service'"
      ]
     },
     "execution_count": 8,
     "metadata": {},
     "output_type": "execute_result"
    }
   ],
   "source": [
    "news_info_title = news_info.find('div', class_ = 'content_title').text\n",
    "news_info_title"
   ]
  },
  {
   "cell_type": "code",
   "execution_count": 9,
   "metadata": {},
   "outputs": [
    {
     "data": {
      "text/plain": [
       "\"By collecting data around the clock, NASA's lander will provide unique science about the Martian surface.\""
      ]
     },
     "execution_count": 9,
     "metadata": {},
     "output_type": "execute_result"
    }
   ],
   "source": [
    "news_info_teaser = news_info.find('div', class_ = 'article_teaser_body').text\n",
    "news_info_teaser"
   ]
  },
  {
   "cell_type": "code",
   "execution_count": 10,
   "metadata": {},
   "outputs": [
    {
     "data": {
      "text/plain": [
       "'https://mars.nasa.gov/system/news_items/list_view_images/8415_PIA22876-th.jpg'"
      ]
     },
     "execution_count": 10,
     "metadata": {},
     "output_type": "execute_result"
    }
   ],
   "source": [
    "news_info_image_url = url_nasa_mars_base + news_info.find('div',class_ = 'list_image').find('img')['src']\n",
    "news_info_image_url"
   ]
  },
  {
   "cell_type": "code",
   "execution_count": 11,
   "metadata": {},
   "outputs": [
    {
     "data": {
      "text/plain": [
       "{'news_info_date': 'February 19, 2019',\n",
       " 'news_info_title': 'InSight Is the Newest Mars Weather Service',\n",
       " 'news_info_teaser': \"By collecting data around the clock, NASA's lander will provide unique science about the Martian surface.\",\n",
       " 'news_info_url': 'https://mars.nasa.gov/news/8415/insight-is-the-newest-mars-weather-service/',\n",
       " 'news_info_image_url': 'https://mars.nasa.gov/system/news_items/list_view_images/8415_PIA22876-th.jpg'}"
      ]
     },
     "execution_count": 11,
     "metadata": {},
     "output_type": "execute_result"
    }
   ],
   "source": [
    "# Put all of the Mars News information in a dictionary\n",
    "news_info_dict = {\n",
    "    'news_info_date': news_info_date,\n",
    "    'news_info_title': news_info_title,\n",
    "    'news_info_teaser': news_info_teaser,\n",
    "    'news_info_url': news_info_url,\n",
    "    'news_info_image_url' : news_info_image_url\n",
    "}\n",
    "news_info_dict"
   ]
  },
  {
   "cell_type": "code",
   "execution_count": null,
   "metadata": {},
   "outputs": [],
   "source": []
  },
  {
   "cell_type": "markdown",
   "metadata": {},
   "source": [
    "## JPL Mars Space Images - Featured Image"
   ]
  },
  {
   "cell_type": "code",
   "execution_count": 12,
   "metadata": {},
   "outputs": [
    {
     "data": {
      "text/plain": [
       "'https://www.jpl.nasa.gov/spaceimages/?search=&category=Mars'"
      ]
     },
     "execution_count": 12,
     "metadata": {},
     "output_type": "execute_result"
    }
   ],
   "source": [
    "# NASA JPL website\n",
    "url_nasa_jpl_base = 'https://www.jpl.nasa.gov'\n",
    "url_nasa_jpl_mars = url_nasa_jpl_base + '/spaceimages/?search=&category=Mars'\n",
    "url_nasa_jpl_mars"
   ]
  },
  {
   "cell_type": "code",
   "execution_count": 13,
   "metadata": {},
   "outputs": [],
   "source": [
    "# Use Splinter to navigate to the page\n",
    "browser.visit( url_nasa_jpl_mars )\n",
    "\n",
    "# Create a BeautifulSoup object to parse the HTML content\n",
    "soup = BeautifulSoup(browser.html, 'lxml')"
   ]
  },
  {
   "cell_type": "code",
   "execution_count": 14,
   "metadata": {},
   "outputs": [],
   "source": [
    "# The articles are in list elements with class 'slide'.\n",
    "# Get the first of these list elements, which will be the most recent article\n",
    "featured_image_info = soup.find('a', id = 'full_image')"
   ]
  },
  {
   "cell_type": "code",
   "execution_count": 15,
   "metadata": {},
   "outputs": [
    {
     "data": {
      "text/plain": [
       "'https://www.jpl.nasa.gov/spaceimages/details.php?id=PIA16815'"
      ]
     },
     "execution_count": 15,
     "metadata": {},
     "output_type": "execute_result"
    }
   ],
   "source": [
    "featured_image_details_url = url_nasa_jpl_base + featured_image_info['data-link']\n",
    "featured_image_details_url"
   ]
  },
  {
   "cell_type": "code",
   "execution_count": 16,
   "metadata": {},
   "outputs": [],
   "source": [
    "# Click the link to get to the details page,\n",
    "# so we can get the high resolution featured picture\n",
    "browser.visit(featured_image_details_url)"
   ]
  },
  {
   "cell_type": "code",
   "execution_count": 17,
   "metadata": {},
   "outputs": [],
   "source": [
    "# Create a BeautifulSoup object to parse the HTML content\n",
    "soup = BeautifulSoup(browser.html, 'lxml')"
   ]
  },
  {
   "cell_type": "code",
   "execution_count": 18,
   "metadata": {},
   "outputs": [
    {
     "data": {
      "text/plain": [
       "'https://www.jpl.nasa.gov/spaceimages/images/largesize/PIA16815_hires.jpg'"
      ]
     },
     "execution_count": 18,
     "metadata": {},
     "output_type": "execute_result"
    }
   ],
   "source": [
    "# Now, get the URL for the high resolution picture\n",
    "featured_image_details_info = soup.find('img',class_ = 'main_image')\n",
    "\n",
    "featured_image_url = url_nasa_jpl_base + featured_image_details_info['src']\n",
    "featured_image_url"
   ]
  },
  {
   "cell_type": "code",
   "execution_count": 19,
   "metadata": {},
   "outputs": [
    {
     "data": {
      "text/plain": [
       "\"This image shows the first holes into rock drilled by NASA's Mars rover Curiosity, with drill tailings around the holes plus piles of powdered rock collected from the deeper hole and later discarded.\""
      ]
     },
     "execution_count": 19,
     "metadata": {},
     "output_type": "execute_result"
    }
   ],
   "source": [
    "# Also, while we're here... get the image caption, too\n",
    "featured_image_title = featured_image_details_info['title']\n",
    "featured_image_title"
   ]
  },
  {
   "cell_type": "code",
   "execution_count": 20,
   "metadata": {},
   "outputs": [
    {
     "data": {
      "text/plain": [
       "{'featured_image_title': \"This image shows the first holes into rock drilled by NASA's Mars rover Curiosity, with drill tailings around the holes plus piles of powdered rock collected from the deeper hole and later discarded.\",\n",
       " 'featured_image_url': 'https://www.jpl.nasa.gov/spaceimages/images/largesize/PIA16815_hires.jpg'}"
      ]
     },
     "execution_count": 20,
     "metadata": {},
     "output_type": "execute_result"
    }
   ],
   "source": [
    "# Put all of the JPL Mars Featured Image information in a dictionary\n",
    "featured_image_dict = {\n",
    "    'featured_image_title': featured_image_title,\n",
    "    'featured_image_url': featured_image_url\n",
    "}\n",
    "featured_image_dict"
   ]
  },
  {
   "cell_type": "code",
   "execution_count": null,
   "metadata": {},
   "outputs": [],
   "source": []
  },
  {
   "cell_type": "markdown",
   "metadata": {},
   "source": [
    "## Mars Weather"
   ]
  },
  {
   "cell_type": "code",
   "execution_count": 21,
   "metadata": {},
   "outputs": [],
   "source": [
    "# NASA JPL website\n",
    "url_twitter_mars_base = 'https://twitter.com/marswxreport?lang=en'\n",
    "url_twitter_mars = url_twitter_mars_base"
   ]
  },
  {
   "cell_type": "code",
   "execution_count": 22,
   "metadata": {},
   "outputs": [],
   "source": [
    "# Use Splinter to navigate to the page\n",
    "browser.visit( url_twitter_mars )\n",
    "\n",
    "# Create a BeautifulSoup object to parse the HTML content\n",
    "soup = BeautifulSoup(browser.html, 'lxml')"
   ]
  },
  {
   "cell_type": "code",
   "execution_count": 23,
   "metadata": {},
   "outputs": [
    {
     "name": "stdout",
     "output_type": "stream",
     "text": [
      "<strong class=\"fullname show-popup-with-id u-textTruncate \" data-aria-label-part=\"\">Mars Weather</strong>\n"
     ]
    }
   ],
   "source": [
    "# The articles are in list elements with class 'slide'.\n",
    "# Get the first of these list elements, which will be the most recent article\n",
    "mars_weather_info = soup.find_all('div', class_ = 'tweet')\n",
    "for mwi in mars_weather_info:\n",
    "    mwi_item = mwi.find('strong', class_ = 'fullname', string='Mars Weather')\n",
    "    if mwi_item:\n",
    "        print( mwi_item )\n",
    "        break;\n"
   ]
  },
  {
   "cell_type": "code",
   "execution_count": 24,
   "metadata": {},
   "outputs": [
    {
     "data": {
      "text/plain": [
       "'InSight sol 81 (2019-02-17), high -17/2F, low -95/-138F, pressure at 7.23hPa, winds from the WNW at 12 mph gusting to 37.8 mph\\n\\nWelcome to the Mars Weather team @NASAInSight!\\nhttps://mars.nasa.gov/insight/weather/\\xa0…pic.twitter.com/SH12FvcMfv'"
      ]
     },
     "execution_count": 24,
     "metadata": {},
     "output_type": "execute_result"
    }
   ],
   "source": [
    "mars_weather = mwi.find('div', class_ = 'js-tweet-text-container').text.strip()\n",
    "mars_weather"
   ]
  },
  {
   "cell_type": "code",
   "execution_count": 25,
   "metadata": {},
   "outputs": [
    {
     "data": {
      "text/plain": [
       "'https://t.co/2EDVfFcJhp'"
      ]
     },
     "execution_count": 25,
     "metadata": {},
     "output_type": "execute_result"
    }
   ],
   "source": [
    "mars_weather_url = mwi.find('a', class_ = 'twitter-timeline-link')['href']\n",
    "mars_weather_url"
   ]
  },
  {
   "cell_type": "code",
   "execution_count": 26,
   "metadata": {},
   "outputs": [],
   "source": [
    "# Put all of the Twitter Mars Weather information in a dictionary\n",
    "mars_weather_dict = {\n",
    "    'mars_weather': mars_weather,\n",
    "    'mars_weather_url': mars_weather_url\n",
    "}"
   ]
  },
  {
   "cell_type": "code",
   "execution_count": null,
   "metadata": {},
   "outputs": [],
   "source": []
  },
  {
   "cell_type": "markdown",
   "metadata": {},
   "source": [
    "## Mars Facts"
   ]
  },
  {
   "cell_type": "code",
   "execution_count": 27,
   "metadata": {},
   "outputs": [],
   "source": [
    "#http://space-facts.com/mars/\n",
    "url_space_facts_base = 'http://space-facts.com/mars'\n",
    "url_space_facts = url_space_facts_base"
   ]
  },
  {
   "cell_type": "code",
   "execution_count": 28,
   "metadata": {},
   "outputs": [],
   "source": [
    "# Use Splinter to navigate to the page\n",
    "browser.visit( url_space_facts )"
   ]
  },
  {
   "cell_type": "code",
   "execution_count": 29,
   "metadata": {},
   "outputs": [],
   "source": [
    "space_facts_tables_df = pd.read_html(str(browser.html), attrs = {'id':'tablepress-mars'})\n",
    "mars_facts_df = space_facts_tables_df[0]"
   ]
  },
  {
   "cell_type": "code",
   "execution_count": 30,
   "metadata": {},
   "outputs": [
    {
     "data": {
      "text/html": [
       "<div>\n",
       "<style scoped>\n",
       "    .dataframe tbody tr th:only-of-type {\n",
       "        vertical-align: middle;\n",
       "    }\n",
       "\n",
       "    .dataframe tbody tr th {\n",
       "        vertical-align: top;\n",
       "    }\n",
       "\n",
       "    .dataframe thead th {\n",
       "        text-align: right;\n",
       "    }\n",
       "</style>\n",
       "<table border=\"1\" class=\"dataframe\">\n",
       "  <thead>\n",
       "    <tr style=\"text-align: right;\">\n",
       "      <th></th>\n",
       "      <th>Fact</th>\n",
       "      <th>Mars</th>\n",
       "    </tr>\n",
       "  </thead>\n",
       "  <tbody>\n",
       "    <tr>\n",
       "      <th>0</th>\n",
       "      <td>Equatorial Diameter:</td>\n",
       "      <td>6,792 km</td>\n",
       "    </tr>\n",
       "    <tr>\n",
       "      <th>1</th>\n",
       "      <td>Polar Diameter:</td>\n",
       "      <td>6,752 km</td>\n",
       "    </tr>\n",
       "    <tr>\n",
       "      <th>2</th>\n",
       "      <td>Mass:</td>\n",
       "      <td>6.42 x 10^23 kg (10.7% Earth)</td>\n",
       "    </tr>\n",
       "    <tr>\n",
       "      <th>3</th>\n",
       "      <td>Moons:</td>\n",
       "      <td>2 (Phobos &amp; Deimos)</td>\n",
       "    </tr>\n",
       "    <tr>\n",
       "      <th>4</th>\n",
       "      <td>Orbit Distance:</td>\n",
       "      <td>227,943,824 km (1.52 AU)</td>\n",
       "    </tr>\n",
       "    <tr>\n",
       "      <th>5</th>\n",
       "      <td>Orbit Period:</td>\n",
       "      <td>687 days (1.9 years)</td>\n",
       "    </tr>\n",
       "    <tr>\n",
       "      <th>6</th>\n",
       "      <td>Surface Temperature:</td>\n",
       "      <td>-153 to 20 °C</td>\n",
       "    </tr>\n",
       "    <tr>\n",
       "      <th>7</th>\n",
       "      <td>First Record:</td>\n",
       "      <td>2nd millennium BC</td>\n",
       "    </tr>\n",
       "    <tr>\n",
       "      <th>8</th>\n",
       "      <td>Recorded By:</td>\n",
       "      <td>Egyptian astronomers</td>\n",
       "    </tr>\n",
       "  </tbody>\n",
       "</table>\n",
       "</div>"
      ],
      "text/plain": [
       "                   Fact                           Mars\n",
       "0  Equatorial Diameter:                       6,792 km\n",
       "1       Polar Diameter:                       6,752 km\n",
       "2                 Mass:  6.42 x 10^23 kg (10.7% Earth)\n",
       "3                Moons:            2 (Phobos & Deimos)\n",
       "4       Orbit Distance:       227,943,824 km (1.52 AU)\n",
       "5         Orbit Period:           687 days (1.9 years)\n",
       "6  Surface Temperature:                  -153 to 20 °C\n",
       "7         First Record:              2nd millennium BC\n",
       "8          Recorded By:           Egyptian astronomers"
      ]
     },
     "execution_count": 30,
     "metadata": {},
     "output_type": "execute_result"
    }
   ],
   "source": [
    "mars_facts_df.rename( columns = {0:'Fact', 1: 'Mars'}, inplace=True )\n",
    "mars_facts_df"
   ]
  },
  {
   "cell_type": "code",
   "execution_count": 31,
   "metadata": {},
   "outputs": [],
   "source": [
    "mars_facts_table = mars_facts_df.to_html( na_rep='', index = False )\n"
   ]
  },
  {
   "cell_type": "code",
   "execution_count": null,
   "metadata": {},
   "outputs": [],
   "source": []
  },
  {
   "cell_type": "markdown",
   "metadata": {},
   "source": [
    "## Mars Hemispheres"
   ]
  },
  {
   "cell_type": "code",
   "execution_count": 32,
   "metadata": {},
   "outputs": [
    {
     "data": {
      "text/plain": [
       "'https://astrogeology.usgs.gov/search/results?q=hemisphere+enhanced&k1=target&v1=Mars'"
      ]
     },
     "execution_count": 32,
     "metadata": {},
     "output_type": "execute_result"
    }
   ],
   "source": [
    "#https://astrogeology.usgs.gov/search/results?q=hemisphere+enhanced&k1=target&v1=Mars\n",
    "url_usgs_astro_base = 'https://astrogeology.usgs.gov'\n",
    "url_usgs_astro = url_usgs_astro_base + '/search/results?q=hemisphere+enhanced&k1=target&v1=Mars'\n",
    "url_usgs_astro"
   ]
  },
  {
   "cell_type": "code",
   "execution_count": 33,
   "metadata": {},
   "outputs": [],
   "source": [
    "# Use Splinter to navigate to the page\n",
    "browser.visit( url_usgs_astro )\n",
    "\n",
    "# Create a BeautifulSoup object to parse the HTML content\n",
    "soup = BeautifulSoup(browser.html, 'lxml')"
   ]
  },
  {
   "cell_type": "code",
   "execution_count": 34,
   "metadata": {},
   "outputs": [],
   "source": [
    "hemiphere_image_info = soup.find_all('div', class_ = 'description')\n"
   ]
  },
  {
   "cell_type": "code",
   "execution_count": 35,
   "metadata": {},
   "outputs": [
    {
     "name": "stdout",
     "output_type": "stream",
     "text": [
      "Cerberus Hemisphere Enhanced\n",
      "https://astrogeology.usgs.gov/search/map/Mars/Viking/cerberus_enhanced\n",
      "http://astropedia.astrogeology.usgs.gov/download/Mars/Viking/cerberus_enhanced.tif/full.jpg\n",
      "Mosaic of the Cerberus hemisphere of Mars projected into point perspective, a view similar to that which one would see from a spacecraft. This mosaic is composed of 104 Viking Orbiter images acquired on February 11, 1980. At that time, it was early northern summer on Mars. The center of the image is at latitude 3 degrees, longitude 185 degrees.\n",
      "----------------------------------------\n",
      "Schiaparelli Hemisphere Enhanced\n",
      "https://astrogeology.usgs.gov/search/map/Mars/Viking/schiaparelli_enhanced\n",
      "http://astropedia.astrogeology.usgs.gov/download/Mars/Viking/schiaparelli_enhanced.tif/full.jpg\n",
      "Mosaic of the Schiaparelli hemisphere of Mars projected into point perspective, a view similar to that which one would see from a spacecraft. The images were acquired in 1980 during early northern summer on Mars. The center of this image is near the impact crater Schiaparelli (latitude -3, longitude 343) The limits of this mosaic are approximately latitude -60 to 60 and longitude 260 to 30. The color variations have been enhanced by a factor of two, and the large-scale brightness normalized by large-scale filtering.\n",
      "----------------------------------------\n",
      "Syrtis Major Hemisphere Enhanced\n",
      "https://astrogeology.usgs.gov/search/map/Mars/Viking/syrtis_major_enhanced\n",
      "http://astropedia.astrogeology.usgs.gov/download/Mars/Viking/syrtis_major_enhanced.tif/full.jpg\n",
      "Mosaic of the Syrtis Major hemisphere of Mars projected into point perspective, a view similar to that which one would see from a spacecraft. This mosaic is composed of about 100 red and violet filter Viking Orbiter images, digitally mosaicked in an point perspective projection. The images were acquired in 1980 during early northern summer on Mars. The center of this image is near latitude 0 degrees, longitude 310 degrees, and the limits of this mosaic are approximately latitude -60 to 60 and longitude 260 to 350. The color variations have been enhanced by a factor of two, and the large-scale brightness normalized by large-scale filtering.\n",
      "----------------------------------------\n",
      "Valles Marineris Hemisphere Enhanced\n",
      "https://astrogeology.usgs.gov/search/map/Mars/Viking/valles_marineris_enhanced\n",
      "http://astropedia.astrogeology.usgs.gov/download/Mars/Viking/valles_marineris_enhanced.tif/full.jpg\n",
      "Mosaic of the Valles Marineris hemisphere of Mars projected into point perspective, a view similar to that which one would see from a spacecraft. The distance is 2500 kilometers from the surface of the planet, with the scale being .6km/pixel. The mosaic is composed of 102 Viking Orbiter images of Mars. The center of the scene (lat -8, long 78) shows the entire Valles Marineris canyon system, over 2000 kilometers long and up to 8 kilometers deep, extending form Noctis Labyrinthus, the arcuate system of graben to the west, to the chaotic terrain to the east. Many huge ancient river channels begin from the chaotic terrain from north-central canyons and run north. The three Tharsis volcanoes (dark red spots), each about 25 kilometers high, are visible to the west. South of Valles Marineris is very ancient terrain covered by many impact craters.\n",
      "----------------------------------------\n"
     ]
    }
   ],
   "source": [
    "# Initialize a list of hemisphere image information\n",
    "hemiphere_image_list = []\n",
    "\n",
    "# Loop through all of the hemispheres listed on the page\n",
    "for h in hemiphere_image_info:\n",
    "    \n",
    "    # Get the image title\n",
    "    h_title = h.find('h3').text\n",
    "    \n",
    "    # Get the URL of the details page (where the full resolution image can be found)\n",
    "    h_details_url = url_usgs_astro_base + h.find('a', class_ = 'itemLink product-item')['href']\n",
    "    \n",
    "    print (h_title)\n",
    "    print (h_details_url)\n",
    "    \n",
    "    # Click to visit the details page\n",
    "    browser.visit( h_details_url )\n",
    "    \n",
    "    # Create a BeautifulSoup object to parse the HTML content\n",
    "    soup = BeautifulSoup(browser.html, 'lxml')\n",
    "    \n",
    "    # Get the link to the full resolution image (1024x1024)\n",
    "    h_full_image_url = soup.find('div', class_ = 'downloads').find('a')['href']\n",
    "    print (h_full_image_url)\n",
    "    \n",
    "    # Get the description of the full resolution image\n",
    "    h_full_image_desc = soup.find('div', class_ = 'content').find('p').text\n",
    "    print( h_full_image_desc )\n",
    "    print (\"-\"*40)\n",
    "    \n",
    "    # Add a dictionary of this hemisphere info to the list\n",
    "    h_dict = {\n",
    "        'h_title': h_title,\n",
    "        'h_full_image_url': h_full_image_url,\n",
    "        'h_full_image_desc': h_full_image_desc\n",
    "    }\n",
    "    \n",
    "    hemiphere_image_list.append( h_dict )\n"
   ]
  },
  {
   "cell_type": "code",
   "execution_count": null,
   "metadata": {
    "scrolled": true
   },
   "outputs": [],
   "source": []
  },
  {
   "cell_type": "markdown",
   "metadata": {},
   "source": [
    "## Consolidate the Gathered Information"
   ]
  },
  {
   "cell_type": "code",
   "execution_count": 36,
   "metadata": {},
   "outputs": [],
   "source": [
    "# Populate the gathered information into a single dictionary\n",
    "mars_info_dict = {\n",
    "    'news_info_dict': news_info_dict,\n",
    "    'featured_image_dict': featured_image_dict,\n",
    "    'mars_weather_dict': mars_weather_dict,\n",
    "    'mars_facts_table': mars_facts_table,\n",
    "    'hemiphere_image_list': hemiphere_image_list\n",
    "}"
   ]
  },
  {
   "cell_type": "code",
   "execution_count": null,
   "metadata": {},
   "outputs": [],
   "source": []
  },
  {
   "cell_type": "code",
   "execution_count": null,
   "metadata": {},
   "outputs": [],
   "source": []
  },
  {
   "cell_type": "markdown",
   "metadata": {},
   "source": [
    "# Store in MongoDB"
   ]
  },
  {
   "cell_type": "code",
   "execution_count": 37,
   "metadata": {},
   "outputs": [],
   "source": [
    "# Initialize PyMongo to work with MongoDBs\n",
    "conn = 'mongodb://localhost:27017'\n",
    "client = pymongo.MongoClient(conn)"
   ]
  },
  {
   "cell_type": "code",
   "execution_count": 38,
   "metadata": {},
   "outputs": [],
   "source": [
    "# Define database and collection\n",
    "db = client.mars_info"
   ]
  },
  {
   "cell_type": "code",
   "execution_count": 39,
   "metadata": {},
   "outputs": [],
   "source": [
    "db.mars_info.drop()"
   ]
  },
  {
   "cell_type": "code",
   "execution_count": 40,
   "metadata": {},
   "outputs": [],
   "source": [
    "result = db.mars_info.insert_one( mars_info_dict )"
   ]
  },
  {
   "cell_type": "code",
   "execution_count": null,
   "metadata": {},
   "outputs": [],
   "source": []
  },
  {
   "cell_type": "code",
   "execution_count": 41,
   "metadata": {},
   "outputs": [],
   "source": [
    "# Read back what's in the database - just to check\n",
    "# Display items in MongoDB collection\n",
    "m_info = db.mars_info.find()"
   ]
  },
  {
   "cell_type": "code",
   "execution_count": 42,
   "metadata": {},
   "outputs": [
    {
     "name": "stdout",
     "output_type": "stream",
     "text": [
      "{'_id': ObjectId('5c6ce240aaa45b99818eef5a'),\n",
      " 'featured_image_dict': {'featured_image_title': 'This image shows the first '\n",
      "                                                 'holes into rock drilled by '\n",
      "                                                 \"NASA's Mars rover Curiosity, \"\n",
      "                                                 'with drill tailings around '\n",
      "                                                 'the holes plus piles of '\n",
      "                                                 'powdered rock collected from '\n",
      "                                                 'the deeper hole and later '\n",
      "                                                 'discarded.',\n",
      "                         'featured_image_url': 'https://www.jpl.nasa.gov/spaceimages/images/largesize/PIA16815_hires.jpg'},\n",
      " 'hemiphere_image_list': [{'h_full_image_desc': 'Mosaic of the Cerberus '\n",
      "                                                'hemisphere of Mars projected '\n",
      "                                                'into point perspective, a '\n",
      "                                                'view similar to that which '\n",
      "                                                'one would see from a '\n",
      "                                                'spacecraft. This mosaic is '\n",
      "                                                'composed of 104 Viking '\n",
      "                                                'Orbiter images acquired on '\n",
      "                                                'February 11, 1980. At that '\n",
      "                                                'time, it was early northern '\n",
      "                                                'summer on Mars. The center of '\n",
      "                                                'the image is at latitude 3 '\n",
      "                                                'degrees, longitude 185 '\n",
      "                                                'degrees.',\n",
      "                           'h_full_image_url': 'http://astropedia.astrogeology.usgs.gov/download/Mars/Viking/cerberus_enhanced.tif/full.jpg',\n",
      "                           'h_title': 'Cerberus Hemisphere Enhanced'},\n",
      "                          {'h_full_image_desc': 'Mosaic of the Schiaparelli '\n",
      "                                                'hemisphere of Mars projected '\n",
      "                                                'into point perspective, a '\n",
      "                                                'view similar to that which '\n",
      "                                                'one would see from a '\n",
      "                                                'spacecraft. The images were '\n",
      "                                                'acquired in 1980 during early '\n",
      "                                                'northern summer on Mars. The '\n",
      "                                                'center of this image is near '\n",
      "                                                'the impact crater '\n",
      "                                                'Schiaparelli (latitude -3, '\n",
      "                                                'longitude 343) The limits of '\n",
      "                                                'this mosaic are approximately '\n",
      "                                                'latitude -60 to 60 and '\n",
      "                                                'longitude 260 to 30. The '\n",
      "                                                'color variations have been '\n",
      "                                                'enhanced by a factor of two, '\n",
      "                                                'and the large-scale '\n",
      "                                                'brightness normalized by '\n",
      "                                                'large-scale filtering.',\n",
      "                           'h_full_image_url': 'http://astropedia.astrogeology.usgs.gov/download/Mars/Viking/schiaparelli_enhanced.tif/full.jpg',\n",
      "                           'h_title': 'Schiaparelli Hemisphere Enhanced'},\n",
      "                          {'h_full_image_desc': 'Mosaic of the Syrtis Major '\n",
      "                                                'hemisphere of Mars projected '\n",
      "                                                'into point perspective, a '\n",
      "                                                'view similar to that which '\n",
      "                                                'one would see from a '\n",
      "                                                'spacecraft. This mosaic is '\n",
      "                                                'composed of about 100 red and '\n",
      "                                                'violet filter Viking Orbiter '\n",
      "                                                'images, digitally mosaicked '\n",
      "                                                'in an point perspective '\n",
      "                                                'projection. The images were '\n",
      "                                                'acquired in 1980 during early '\n",
      "                                                'northern summer on Mars. The '\n",
      "                                                'center of this image is near '\n",
      "                                                'latitude 0 degrees, longitude '\n",
      "                                                '310 degrees, and the limits '\n",
      "                                                'of this mosaic are '\n",
      "                                                'approximately latitude -60 to '\n",
      "                                                '60 and longitude 260 to 350. '\n",
      "                                                'The color variations have '\n",
      "                                                'been enhanced by a factor of '\n",
      "                                                'two, and the large-scale '\n",
      "                                                'brightness normalized by '\n",
      "                                                'large-scale filtering.',\n",
      "                           'h_full_image_url': 'http://astropedia.astrogeology.usgs.gov/download/Mars/Viking/syrtis_major_enhanced.tif/full.jpg',\n",
      "                           'h_title': 'Syrtis Major Hemisphere Enhanced'},\n",
      "                          {'h_full_image_desc': 'Mosaic of the Valles '\n",
      "                                                'Marineris hemisphere of Mars '\n",
      "                                                'projected into point '\n",
      "                                                'perspective, a view similar '\n",
      "                                                'to that which one would see '\n",
      "                                                'from a spacecraft. The '\n",
      "                                                'distance is 2500 kilometers '\n",
      "                                                'from the surface of the '\n",
      "                                                'planet, with the scale being '\n",
      "                                                '.6km/pixel. The mosaic is '\n",
      "                                                'composed of 102 Viking '\n",
      "                                                'Orbiter images of Mars. The '\n",
      "                                                'center of the scene (lat -8, '\n",
      "                                                'long 78) shows the entire '\n",
      "                                                'Valles Marineris canyon '\n",
      "                                                'system, over 2000 kilometers '\n",
      "                                                'long and up to 8 kilometers '\n",
      "                                                'deep, extending form Noctis '\n",
      "                                                'Labyrinthus, the arcuate '\n",
      "                                                'system of graben to the west, '\n",
      "                                                'to the chaotic terrain to the '\n",
      "                                                'east. Many huge ancient river '\n",
      "                                                'channels begin from the '\n",
      "                                                'chaotic terrain from '\n",
      "                                                'north-central canyons and run '\n",
      "                                                'north. The three Tharsis '\n",
      "                                                'volcanoes (dark red spots), '\n",
      "                                                'each about 25 kilometers '\n",
      "                                                'high, are visible to the '\n",
      "                                                'west. South of Valles '\n",
      "                                                'Marineris is very ancient '\n",
      "                                                'terrain covered by many '\n",
      "                                                'impact craters.',\n",
      "                           'h_full_image_url': 'http://astropedia.astrogeology.usgs.gov/download/Mars/Viking/valles_marineris_enhanced.tif/full.jpg',\n",
      "                           'h_title': 'Valles Marineris Hemisphere Enhanced'}],\n",
      " 'mars_facts_table': '<table border=\"1\" class=\"dataframe\">\\n'\n",
      "                     '  <thead>\\n'\n",
      "                     '    <tr style=\"text-align: right;\">\\n'\n",
      "                     '      <th>Fact</th>\\n'\n",
      "                     '      <th>Mars</th>\\n'\n",
      "                     '    </tr>\\n'\n",
      "                     '  </thead>\\n'\n",
      "                     '  <tbody>\\n'\n",
      "                     '    <tr>\\n'\n",
      "                     '      <td>Equatorial Diameter:</td>\\n'\n",
      "                     '      <td>6,792 km</td>\\n'\n",
      "                     '    </tr>\\n'\n",
      "                     '    <tr>\\n'\n",
      "                     '      <td>Polar Diameter:</td>\\n'\n",
      "                     '      <td>6,752 km</td>\\n'\n",
      "                     '    </tr>\\n'\n",
      "                     '    <tr>\\n'\n",
      "                     '      <td>Mass:</td>\\n'\n",
      "                     '      <td>6.42 x 10^23 kg (10.7% Earth)</td>\\n'\n",
      "                     '    </tr>\\n'\n",
      "                     '    <tr>\\n'\n",
      "                     '      <td>Moons:</td>\\n'\n",
      "                     '      <td>2 (Phobos &amp; Deimos)</td>\\n'\n",
      "                     '    </tr>\\n'\n",
      "                     '    <tr>\\n'\n",
      "                     '      <td>Orbit Distance:</td>\\n'\n",
      "                     '      <td>227,943,824 km (1.52 AU)</td>\\n'\n",
      "                     '    </tr>\\n'\n",
      "                     '    <tr>\\n'\n",
      "                     '      <td>Orbit Period:</td>\\n'\n",
      "                     '      <td>687 days (1.9 years)</td>\\n'\n",
      "                     '    </tr>\\n'\n",
      "                     '    <tr>\\n'\n",
      "                     '      <td>Surface Temperature:</td>\\n'\n",
      "                     '      <td>-153 to 20 °C</td>\\n'\n",
      "                     '    </tr>\\n'\n",
      "                     '    <tr>\\n'\n",
      "                     '      <td>First Record:</td>\\n'\n",
      "                     '      <td>2nd millennium BC</td>\\n'\n",
      "                     '    </tr>\\n'\n",
      "                     '    <tr>\\n'\n",
      "                     '      <td>Recorded By:</td>\\n'\n",
      "                     '      <td>Egyptian astronomers</td>\\n'\n",
      "                     '    </tr>\\n'\n",
      "                     '  </tbody>\\n'\n",
      "                     '</table>',\n",
      " 'mars_weather_dict': {'mars_weather': 'InSight sol 81 (2019-02-17), high '\n",
      "                                       '-17/2F, low -95/-138F, pressure at '\n",
      "                                       '7.23hPa, winds from the WNW at 12 mph '\n",
      "                                       'gusting to 37.8 mph\\n'\n",
      "                                       '\\n'\n",
      "                                       'Welcome to the Mars Weather team '\n",
      "                                       '@NASAInSight!\\n'\n",
      "                                       'https://mars.nasa.gov/insight/weather/\\xa0'\n",
      "                                       '…pic.twitter.com/SH12FvcMfv',\n",
      "                       'mars_weather_url': 'https://t.co/2EDVfFcJhp'},\n",
      " 'news_info_dict': {'news_info_date': 'February 19, 2019',\n",
      "                    'news_info_image_url': 'https://mars.nasa.gov/system/news_items/list_view_images/8415_PIA22876-th.jpg',\n",
      "                    'news_info_teaser': 'By collecting data around the clock, '\n",
      "                                        \"NASA's lander will provide unique \"\n",
      "                                        'science about the Martian surface.',\n",
      "                    'news_info_title': 'InSight Is the Newest Mars Weather '\n",
      "                                       'Service',\n",
      "                    'news_info_url': 'https://mars.nasa.gov/news/8415/insight-is-the-newest-mars-weather-service/'}}\n"
     ]
    }
   ],
   "source": [
    "pprint(m_info[0])"
   ]
  },
  {
   "cell_type": "code",
   "execution_count": null,
   "metadata": {},
   "outputs": [],
   "source": []
  },
  {
   "cell_type": "code",
   "execution_count": null,
   "metadata": {},
   "outputs": [],
   "source": []
  }
 ],
 "metadata": {
  "kernelspec": {
   "display_name": "Python 3",
   "language": "python",
   "name": "python3"
  },
  "language_info": {
   "codemirror_mode": {
    "name": "ipython",
    "version": 3
   },
   "file_extension": ".py",
   "mimetype": "text/x-python",
   "name": "python",
   "nbconvert_exporter": "python",
   "pygments_lexer": "ipython3",
   "version": "3.6.6"
  }
 },
 "nbformat": 4,
 "nbformat_minor": 2
}
